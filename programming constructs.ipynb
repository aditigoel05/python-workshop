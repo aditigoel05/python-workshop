{
 "cells": [
  {
   "cell_type": "markdown",
   "metadata": {},
   "source": [
    "### ODD EVEN"
   ]
  },
  {
   "cell_type": "code",
   "execution_count": 5,
   "metadata": {
    "scrolled": true
   },
   "outputs": [
    {
     "name": "stdout",
     "output_type": "stream",
     "text": [
      "Enter a number: 10\n",
      "10 is Even number\n"
     ]
    }
   ],
   "source": [
    "num = int(input(\"Enter a number: \"))  \n",
    "if (num % 2) == 0:  \n",
    "   print(num,\"is Even number\")  \n",
    "else:  \n",
    "   print(num,\"is Odd number\") "
   ]
  },
  {
   "cell_type": "markdown",
   "metadata": {},
   "source": [
    "### LEAP YEAR"
   ]
  },
  {
   "cell_type": "code",
   "execution_count": 1,
   "metadata": {},
   "outputs": [
    {
     "name": "stdout",
     "output_type": "stream",
     "text": [
      "enter the year2000\n",
      "2000 is leap year\n"
     ]
    }
   ],
   "source": [
    "num = int(input(\"enter the year\"))\n",
    "if(num % 4) == 0:\n",
    "    print(num,\"is leap year\")\n",
    "else:\n",
    "    print(num,\"is not a leap year\")"
   ]
  },
  {
   "cell_type": "markdown",
   "metadata": {},
   "source": [
    "### VOWEL CONSONANT"
   ]
  },
  {
   "cell_type": "code",
   "execution_count": 11,
   "metadata": {},
   "outputs": [
    {
     "name": "stdout",
     "output_type": "stream",
     "text": [
      "enter the alphabet: r\n",
      "r is consonant\n"
     ]
    }
   ],
   "source": [
    "al = input(\"enter the alphabet: \")\n",
    "if(al=='a' or al=='e' or al=='i' or al=='o' or al=='u'):\n",
    "    print(al, \"is vowel\")\n",
    "else:\n",
    "    print(al, \"is consonant\")"
   ]
  },
  {
   "cell_type": "code",
   "execution_count": 36,
   "metadata": {},
   "outputs": [
    {
     "name": "stdout",
     "output_type": "stream",
     "text": [
      "enter a: 10\n",
      "enter b: 20\n",
      "enter c: 5\n",
      "b is largest\n"
     ]
    }
   ],
   "source": [
    "a=int(input(\"enter a: \"))\n",
    "b=int(input(\"enter b: \"))\n",
    "c=int(input(\"enter c: \"))\n",
    "if(a>b and a>c):\n",
    "    print(\"a is largest\")\n",
    "elif(b>a and b>c):\n",
    "    print(\"b is largest\")\n",
    "else:\n",
    "    print(\"c is largest\")"
   ]
  },
  {
   "cell_type": "code",
   "execution_count": 40,
   "metadata": {},
   "outputs": [
    {
     "name": "stdout",
     "output_type": "stream",
     "text": [
      "enter a number: 4\n",
      "factorial of 4 is 24\n"
     ]
    }
   ],
   "source": [
    "num=int(input(\"enter a number: \"))\n",
    "fact=1\n",
    "if(num<0):\n",
    "    print(\"factorial is not possible\")\n",
    "elif(num==0):\n",
    "    print(\"factorial of \",num,\"is 1\")\n",
    "else:\n",
    "    for i in range(1,num+1):\n",
    "        fact=fact*i\n",
    "    print(\"factorial of\",num, \"is\",fact)"
   ]
  },
  {
   "cell_type": "code",
   "execution_count": 1,
   "metadata": {},
   "outputs": [
    {
     "name": "stdout",
     "output_type": "stream",
     "text": [
      "    *\n",
      "  *   *\n",
      "*   *   *\n",
      "    *  *  *  *\n"
     ]
    }
   ],
   "source": [
    "print( '    '+\"*\")\n",
    "print( '  '+\"*\"+'   '+\"*\")\n",
    "print( \"*\"+'   '+\"*\"+'   '+\"*\")\n",
    "print( '    '+\"*\"+'  '+\"*\"+'  '+\"*\"+'  '+\"*\")"
   ]
  },
  {
   "cell_type": "code",
   "execution_count": 1,
   "metadata": {},
   "outputs": [
    {
     "name": "stdout",
     "output_type": "stream",
     "text": [
      "the series is: \n",
      "1\n",
      "1\n",
      "2\n",
      "3\n",
      "5\n",
      "8\n",
      "13\n"
     ]
    }
   ],
   "source": [
    "n1=0\n",
    "n2=1\n",
    "count=0\n",
    "nth=0\n",
    "print(\"the series is: \")\n",
    "print(n2)\n",
    "while count<6:\n",
    "    nth=n1+n2\n",
    "    n1=n2\n",
    "    n2=nth\n",
    "    count=count+1\n",
    "    print(nth)"
   ]
  },
  {
   "cell_type": "code",
   "execution_count": 2,
   "metadata": {},
   "outputs": [
    {
     "name": "stdout",
     "output_type": "stream",
     "text": [
      "enter the number: 15\n",
      "15 is a prime number\n"
     ]
    }
   ],
   "source": [
    "num=int(input(\"enter the number: \"))\n",
    "if(num>1):\n",
    "    while num in [2,3]:\n",
    "        print(num,\"is a prime number\")\n",
    "        break\n",
    "    for i in range(2,num):\n",
    "        if(num%i)==0:\n",
    "            print(num,\"is not a prime number\")\n",
    "            break\n",
    "        else:\n",
    "            print(num,\"is a prime number\")\n",
    "            break\n",
    "else:\n",
    "    print(num,\"is not a prime number\")"
   ]
  },
  {
   "cell_type": "code",
   "execution_count": 1,
   "metadata": {},
   "outputs": [
    {
     "name": "stdout",
     "output_type": "stream",
     "text": [
      "calculator\n",
      "1. add\n",
      "2. subtract\n",
      "3. multiply\n",
      "4. divide\n",
      "enter your choice1\n",
      "a= 10\n",
      "b= 20\n",
      "10.0 + 20.0 = 30.0\n"
     ]
    }
   ],
   "source": [
    "def add(x,y):\n",
    "    return x+y\n",
    "def subtract(x,y):\n",
    "    return x-y\n",
    "def multiply(x,y):\n",
    "    return x*y\n",
    "def divide(x,y):\n",
    "    return x/y\n",
    "print(\"calculator\")\n",
    "print(\"1. add\")\n",
    "print(\"2. subtract\")\n",
    "print(\"3. multiply\")\n",
    "print(\"4. divide\")\n",
    "n=int(input(\"enter your choice\"))\n",
    "a=float(input(\"a= \"))\n",
    "b=float(input(\"b= \"))\n",
    "if(n==1):\n",
    "    print(a,\"+\",b,\"=\",add(a,b))\n",
    "elif(n==2):\n",
    "    print(a,\"-\",b,\"=\",subtract(a,b))\n",
    "elif(n==3):\n",
    "    print(a,\"*\",b,\"=\",multiply(a,b))\n",
    "elif(n==4):\n",
    "    print(a,\"/\",b,\"=\",divide(a,b))\n",
    "else:\n",
    "    print(\"invalid choice\")"
   ]
  },
  {
   "cell_type": "code",
   "execution_count": null,
   "metadata": {},
   "outputs": [],
   "source": []
  }
 ],
 "metadata": {
  "kernelspec": {
   "display_name": "Python 3",
   "language": "python",
   "name": "python3"
  },
  "language_info": {
   "codemirror_mode": {
    "name": "ipython",
    "version": 3
   },
   "file_extension": ".py",
   "mimetype": "text/x-python",
   "name": "python",
   "nbconvert_exporter": "python",
   "pygments_lexer": "ipython3",
   "version": "3.7.4"
  }
 },
 "nbformat": 4,
 "nbformat_minor": 2
}
